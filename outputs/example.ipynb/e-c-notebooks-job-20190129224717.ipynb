{
 "cells": [
  {
   "cell_type": "code",
   "execution_count": 1,
   "metadata": {
    "papermill": {
     "duration": 0.625254,
     "end_time": "2019-01-29T22:53:20.751402",
     "exception": false,
     "start_time": "2019-01-29T22:53:20.126148",
     "status": "completed"
    },
    "tags": []
   },
   "outputs": [],
   "source": [
    "import pandas as pd\n",
    "import s3fs\n",
    "import matplotlib.pyplot as plt\n",
    "import numpy as np\n",
    "%matplotlib inline"
   ]
  },
  {
   "cell_type": "code",
   "execution_count": 2,
   "metadata": {
    "papermill": {
     "duration": 0.030697,
     "end_time": "2019-01-29T22:53:20.821860",
     "exception": false,
     "start_time": "2019-01-29T22:53:20.791163",
     "status": "completed"
    },
    "tags": []
   },
   "outputs": [
    {
     "name": "stdout",
     "output_type": "stream",
     "text": [
      "hello\n"
     ]
    }
   ],
   "source": [
    "print('hello')"
   ]
  }
 ],
 "metadata": {
  "kernelspec": {
   "display_name": "Python 3",
   "language": "python",
   "name": "python3"
  },
  "language_info": {
   "codemirror_mode": {
    "name": "ipython",
    "version": 3
   },
   "file_extension": ".py",
   "mimetype": "text/x-python",
   "name": "python",
   "nbconvert_exporter": "python",
   "pygments_lexer": "ipython3",
   "version": "3.6.7"
  },
  "papermill": {
   "duration": 2.841345,
   "end_time": "2019-01-29T22:53:21.690088",
   "environment_variables": {},
   "exception": null,
   "input_path": "/home/jovyan/notebooks/example.ipynb",
   "output_path": "s3://e-c-notebooks.631013143897/outputs/notebooks/example.ipynb/e-c-notebooks-job-20190129224717.ipynb",
   "parameters": {},
   "start_time": "2019-01-29T22:53:18.848743",
   "version": "0.17.1"
  }
 },
 "nbformat": 4,
 "nbformat_minor": 2
}