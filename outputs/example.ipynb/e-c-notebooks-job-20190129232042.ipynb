{
 "cells": [
  {
   "cell_type": "code",
   "execution_count": 1,
   "metadata": {
    "papermill": {
     "duration": 0.617189,
     "end_time": "2019-01-29T23:26:45.069641",
     "exception": false,
     "start_time": "2019-01-29T23:26:44.452452",
     "status": "completed"
    },
    "tags": []
   },
   "outputs": [],
   "source": [
    "import pandas as pd\n",
    "import s3fs\n",
    "import matplotlib.pyplot as plt\n",
    "import numpy as np\n",
    "%matplotlib inline"
   ]
  },
  {
   "cell_type": "code",
   "execution_count": 2,
   "metadata": {
    "papermill": {
     "duration": 0.043084,
     "end_time": "2019-01-29T23:26:45.136038",
     "exception": false,
     "start_time": "2019-01-29T23:26:45.092954",
     "status": "completed"
    },
    "tags": []
   },
   "outputs": [
    {
     "name": "stdout",
     "output_type": "stream",
     "text": [
      "hello\n"
     ]
    }
   ],
   "source": [
    "print('hello')"
   ]
  }
 ],
 "metadata": {
  "kernelspec": {
   "display_name": "Python 3",
   "language": "python",
   "name": "python3"
  },
  "language_info": {
   "codemirror_mode": {
    "name": "ipython",
    "version": 3
   },
   "file_extension": ".py",
   "mimetype": "text/x-python",
   "name": "python",
   "nbconvert_exporter": "python",
   "pygments_lexer": "ipython3",
   "version": "3.6.7"
  },
  "papermill": {
   "duration": 2.836306,
   "end_time": "2019-01-29T23:26:46.031121",
   "environment_variables": {},
   "exception": null,
   "input_path": "/home/jovyan/notebooks/example.ipynb",
   "output_path": "s3://e-c-notebooks.631013143897/outputs/notebooks/example.ipynb/e-c-notebooks-job-20190129232042.ipynb",
   "parameters": {},
   "start_time": "2019-01-29T23:26:43.194815",
   "version": "0.17.1"
  }
 },
 "nbformat": 4,
 "nbformat_minor": 2
}